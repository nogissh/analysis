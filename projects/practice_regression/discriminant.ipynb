{
 "cells": [
  {
   "cell_type": "markdown",
   "metadata": {},
   "source": [
    "## 判別分析"
   ]
  },
  {
   "cell_type": "code",
   "execution_count": 1,
   "metadata": {},
   "outputs": [],
   "source": [
    "import pandas as pd\n",
    "\n",
    "loan3000_df = pd.read_csv('./datasets/loan3000.csv')"
   ]
  },
  {
   "cell_type": "code",
   "execution_count": 2,
   "metadata": {},
   "outputs": [],
   "source": [
    "loan3000_df.outcome = loan3000_df.outcome.astype('category')"
   ]
  },
  {
   "cell_type": "code",
   "execution_count": 3,
   "metadata": {},
   "outputs": [],
   "source": [
    "predictors = ['borrower_score', 'payment_inc_ratio']\n",
    "outcome = 'outcome'"
   ]
  },
  {
   "cell_type": "code",
   "execution_count": 4,
   "metadata": {},
   "outputs": [],
   "source": [
    "X = loan3000_df[predictors]\n",
    "y = loan3000_df[outcome]"
   ]
  },
  {
   "cell_type": "code",
   "execution_count": 5,
   "metadata": {},
   "outputs": [
    {
     "data": {
      "text/html": [
       "<div>\n",
       "<style scoped>\n",
       "    .dataframe tbody tr th:only-of-type {\n",
       "        vertical-align: middle;\n",
       "    }\n",
       "\n",
       "    .dataframe tbody tr th {\n",
       "        vertical-align: top;\n",
       "    }\n",
       "\n",
       "    .dataframe thead th {\n",
       "        text-align: right;\n",
       "    }\n",
       "</style>\n",
       "<table border=\"1\" class=\"dataframe\">\n",
       "  <thead>\n",
       "    <tr style=\"text-align: right;\">\n",
       "      <th></th>\n",
       "      <th>0</th>\n",
       "    </tr>\n",
       "  </thead>\n",
       "  <tbody>\n",
       "    <tr>\n",
       "      <th>borrower_score</th>\n",
       "      <td>7.175839</td>\n",
       "    </tr>\n",
       "    <tr>\n",
       "      <th>payment_inc_ratio</th>\n",
       "      <td>-0.099676</td>\n",
       "    </tr>\n",
       "  </tbody>\n",
       "</table>\n",
       "</div>"
      ],
      "text/plain": [
       "                          0\n",
       "borrower_score     7.175839\n",
       "payment_inc_ratio -0.099676"
      ]
     },
     "execution_count": 5,
     "metadata": {},
     "output_type": "execute_result"
    }
   ],
   "source": [
    "from sklearn.discriminant_analysis import LinearDiscriminantAnalysis\n",
    "\n",
    "loan_lda = LinearDiscriminantAnalysis()\n",
    "loan_lda.fit(X, y)\n",
    "\n",
    "pd.DataFrame(loan_lda.scalings_, index=X.columns)"
   ]
  },
  {
   "cell_type": "code",
   "execution_count": 6,
   "metadata": {},
   "outputs": [
    {
     "data": {
      "text/html": [
       "<div>\n",
       "<style scoped>\n",
       "    .dataframe tbody tr th:only-of-type {\n",
       "        vertical-align: middle;\n",
       "    }\n",
       "\n",
       "    .dataframe tbody tr th {\n",
       "        vertical-align: top;\n",
       "    }\n",
       "\n",
       "    .dataframe thead th {\n",
       "        text-align: right;\n",
       "    }\n",
       "</style>\n",
       "<table border=\"1\" class=\"dataframe\">\n",
       "  <thead>\n",
       "    <tr style=\"text-align: right;\">\n",
       "      <th></th>\n",
       "      <th>default</th>\n",
       "      <th>paid off</th>\n",
       "    </tr>\n",
       "  </thead>\n",
       "  <tbody>\n",
       "    <tr>\n",
       "      <th>0</th>\n",
       "      <td>0.553544</td>\n",
       "      <td>0.446456</td>\n",
       "    </tr>\n",
       "    <tr>\n",
       "      <th>1</th>\n",
       "      <td>0.558953</td>\n",
       "      <td>0.441047</td>\n",
       "    </tr>\n",
       "    <tr>\n",
       "      <th>2</th>\n",
       "      <td>0.272696</td>\n",
       "      <td>0.727304</td>\n",
       "    </tr>\n",
       "    <tr>\n",
       "      <th>3</th>\n",
       "      <td>0.506254</td>\n",
       "      <td>0.493746</td>\n",
       "    </tr>\n",
       "    <tr>\n",
       "      <th>4</th>\n",
       "      <td>0.609952</td>\n",
       "      <td>0.390048</td>\n",
       "    </tr>\n",
       "  </tbody>\n",
       "</table>\n",
       "</div>"
      ],
      "text/plain": [
       "    default  paid off\n",
       "0  0.553544  0.446456\n",
       "1  0.558953  0.441047\n",
       "2  0.272696  0.727304\n",
       "3  0.506254  0.493746\n",
       "4  0.609952  0.390048"
      ]
     },
     "execution_count": 6,
     "metadata": {},
     "output_type": "execute_result"
    }
   ],
   "source": [
    "pred = pd.DataFrame(loan_lda.predict_proba(loan3000_df[predictors]), columns=loan_lda.classes_)\n",
    "pred.head()"
   ]
  },
  {
   "cell_type": "code",
   "execution_count": 7,
   "metadata": {},
   "outputs": [
    {
     "data": {
      "text/html": [
       "<div>\n",
       "<style scoped>\n",
       "    .dataframe tbody tr th:only-of-type {\n",
       "        vertical-align: middle;\n",
       "    }\n",
       "\n",
       "    .dataframe tbody tr th {\n",
       "        vertical-align: top;\n",
       "    }\n",
       "\n",
       "    .dataframe thead th {\n",
       "        text-align: right;\n",
       "    }\n",
       "</style>\n",
       "<table border=\"1\" class=\"dataframe\">\n",
       "  <thead>\n",
       "    <tr style=\"text-align: right;\">\n",
       "      <th></th>\n",
       "      <th>Unnamed: 0</th>\n",
       "      <th>outcome</th>\n",
       "      <th>purpose_</th>\n",
       "      <th>dti</th>\n",
       "      <th>borrower_score</th>\n",
       "      <th>payment_inc_ratio</th>\n",
       "      <th>default</th>\n",
       "    </tr>\n",
       "  </thead>\n",
       "  <tbody>\n",
       "    <tr>\n",
       "      <th>0</th>\n",
       "      <td>32109</td>\n",
       "      <td>paid off</td>\n",
       "      <td>debt_consolidation</td>\n",
       "      <td>21.23</td>\n",
       "      <td>0.40</td>\n",
       "      <td>5.11135</td>\n",
       "      <td>0.553544</td>\n",
       "    </tr>\n",
       "    <tr>\n",
       "      <th>1</th>\n",
       "      <td>16982</td>\n",
       "      <td>default</td>\n",
       "      <td>credit_card</td>\n",
       "      <td>15.49</td>\n",
       "      <td>0.40</td>\n",
       "      <td>5.43165</td>\n",
       "      <td>0.558953</td>\n",
       "    </tr>\n",
       "    <tr>\n",
       "      <th>2</th>\n",
       "      <td>25335</td>\n",
       "      <td>paid off</td>\n",
       "      <td>debt_consolidation</td>\n",
       "      <td>27.30</td>\n",
       "      <td>0.70</td>\n",
       "      <td>9.23003</td>\n",
       "      <td>0.272696</td>\n",
       "    </tr>\n",
       "    <tr>\n",
       "      <th>3</th>\n",
       "      <td>34580</td>\n",
       "      <td>paid off</td>\n",
       "      <td>major_purchase</td>\n",
       "      <td>21.11</td>\n",
       "      <td>0.40</td>\n",
       "      <td>2.33482</td>\n",
       "      <td>0.506254</td>\n",
       "    </tr>\n",
       "    <tr>\n",
       "      <th>4</th>\n",
       "      <td>14424</td>\n",
       "      <td>default</td>\n",
       "      <td>debt_consolidation</td>\n",
       "      <td>16.46</td>\n",
       "      <td>0.45</td>\n",
       "      <td>12.10320</td>\n",
       "      <td>0.609952</td>\n",
       "    </tr>\n",
       "  </tbody>\n",
       "</table>\n",
       "</div>"
      ],
      "text/plain": [
       "   Unnamed: 0   outcome            purpose_    dti  borrower_score  \\\n",
       "0       32109  paid off  debt_consolidation  21.23            0.40   \n",
       "1       16982   default         credit_card  15.49            0.40   \n",
       "2       25335  paid off  debt_consolidation  27.30            0.70   \n",
       "3       34580  paid off      major_purchase  21.11            0.40   \n",
       "4       14424   default  debt_consolidation  16.46            0.45   \n",
       "\n",
       "   payment_inc_ratio   default  \n",
       "0            5.11135  0.553544  \n",
       "1            5.43165  0.558953  \n",
       "2            9.23003  0.272696  \n",
       "3            2.33482  0.506254  \n",
       "4           12.10320  0.609952  "
      ]
     },
     "execution_count": 7,
     "metadata": {},
     "output_type": "execute_result"
    }
   ],
   "source": [
    "import numpy as np\n",
    "\n",
    "center = np.mean(loan_lda.means_, axis=0)\n",
    "slope = -loan_lda.scalings_[0] / loan_lda.scalings_[1]\n",
    "intercept = center[1] - center[0] * slope\n",
    "\n",
    "x_0 = (0 - intercept) / slope\n",
    "x_20 = (20 - intercept) / slope\n",
    "\n",
    "lda_df = pd.concat([loan3000_df, pred['default']], axis=1)\n",
    "lda_df.head()"
   ]
  },
  {
   "cell_type": "markdown",
   "metadata": {},
   "source": [
    "### プロット\n",
    "\n",
    "対角線左のデータポイントは返済不能（確率が0.5を超える）と予測される。"
   ]
  },
  {
   "cell_type": "code",
   "execution_count": 11,
   "metadata": {},
   "outputs": [
    {
     "data": {
      "text/plain": [
       "[<matplotlib.lines.Line2D at 0x1218f55e0>]"
      ]
     },
     "execution_count": 11,
     "metadata": {},
     "output_type": "execute_result"
    },
    {
     "data": {
      "image/png": "[encoded data removed]",
      "text/plain": [
       "<Figure size 288x288 with 1 Axes>"
      ]
     },
     "metadata": {
      "needs_background": "light"
     },
     "output_type": "display_data"
    }
   ],
   "source": [
    "import matplotlib.pyplot as plt\n",
    "import seaborn as sns\n",
    "\n",
    "fig, ax = plt.subplots(figsize=(4, 4))\n",
    "g = sns.scatterplot(x='borrower_score', y='payment_inc_ratio',\n",
    "                                  hue='default', data=lda_df,\n",
    "                                  palette=sns.diverging_palette(240, 10, n=9, as_cmap=True),\n",
    "                                  ax=ax, legend=False)\n",
    "ax.set_ylim(0, 20)\n",
    "ax.set_xlim(0.15, 0.8)\n",
    "ax.plot((x_0, x_20), (0, 20), linewidth=3)\n",
    "ax.plot(*loan_lda.means_.transpose())"
   ]
  },
  {
   "cell_type": "code",
   "execution_count": null,
   "metadata": {},
   "outputs": [],
   "source": []
  }
 ],
 "metadata": {
  "kernelspec": {
   "display_name": "Python 3",
   "language": "python",
   "name": "python3"
  },
  "language_info": {
   "codemirror_mode": {
    "name": "ipython",
    "version": 3
   },
   "file_extension": ".py",
   "mimetype": "text/x-python",
   "name": "python",
   "nbconvert_exporter": "python",
   "pygments_lexer": "ipython3",
   "version": "3.8.3"
  }
 },
 "nbformat": 4,
 "nbformat_minor": 4
}
